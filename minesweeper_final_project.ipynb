{
  "cells": [
    {
      "cell_type": "code",
      "execution_count": null,
      "metadata": {
        "id": "3x0LAUn_6xwj"
      },
      "outputs": [],
      "source": [
        "import torch\n",
        "from torch.utils.data import DataLoader, Dataset, random_split\n",
        "import random\n",
        "import copy\n",
        "import torch\n",
        "import torch.nn as nn\n",
        "import torch.nn.functional as F\n",
        "import torch.optim as optim\n",
        "import numpy as np"
      ]
    },
    {
      "cell_type": "markdown",
      "metadata": {
        "id": "y80uHgTe6yqn"
      },
      "source": [
        "# Logic Bot\n"
      ]
    },
    {
      "cell_type": "code",
      "execution_count": null,
      "metadata": {
        "id": "sJNMWIEZ64qX"
      },
      "outputs": [],
      "source": [
        "data_collection = []\n",
        "\n",
        "\n",
        "class MineSweeperLogicBot():\n",
        "    def __init__(self, width, height, num_mines):\n",
        "        self.width = width\n",
        "        self.height = height\n",
        "        self.num_mines = num_mines\n",
        "        self.new_board()\n",
        "\n",
        "\n",
        "    def new_board(self):\n",
        "        self.board = [[-1 for _ in range(self.width)] for _ in range(self.height)]\n",
        "        self.cells_remaining = set((x, y) for x in range(self.height) for y in range(self.width))\n",
        "        self.mine_cord = []\n",
        "        self.inferred_safe = set()\n",
        "        self.inferred_mine = set()\n",
        "        self.clue_numbers = {}\n",
        "        self.mine_mask = [[0 for _ in range(self.width)] for _ in range(self.height)]\n",
        "\n",
        "    def get_information(self, cell_cord):\n",
        "        num_inferred_mines, num_inferred_safe = 0, 0\n",
        "        unrevealed_neighbors = []\n",
        "        neighbours = self.get_neighbours(cell_cord)\n",
        "\n",
        "        for cord in neighbours:\n",
        "            if cord in self.inferred_mine:\n",
        "                num_inferred_mines += 1\n",
        "            if cord in self.inferred_safe or cord in self.clue_numbers:\n",
        "                num_inferred_safe += 1\n",
        "            if cord in self.cells_remaining and cord not in self.clue_numbers:\n",
        "                unrevealed_neighbors.append(cord)\n",
        "\n",
        "        return num_inferred_mines, num_inferred_safe, unrevealed_neighbors, len(neighbours)\n",
        "\n",
        "    def get_neighbours(self, cell_cord):\n",
        "        x, y = cell_cord\n",
        "        neighbours = []\n",
        "        for dx in [-1, 0, 1]:\n",
        "            for dy in [-1, 0, 1]:\n",
        "                if dx == 0 and dy == 0:\n",
        "                    continue\n",
        "                nx, ny = x + dx, y + dy\n",
        "                if 0 <= nx < self.height and 0 <= ny < self.width:\n",
        "                    neighbours.append((nx, ny))\n",
        "        return neighbours\n",
        "\n",
        "    def get_clue(self, cell_cord):\n",
        "        clue = 0\n",
        "        neighbours = self.get_neighbours(cell_cord)\n",
        "        for cord in neighbours:\n",
        "            if cord in self.mine_cord:\n",
        "                clue += 1\n",
        "            else:\n",
        "                self.mine_mask[cord[0]][cord[1]] = 1\n",
        "\n",
        "        return clue\n",
        "\n",
        "\n",
        "    def update_inferences(self, picked_cell, clue):\n",
        "        num_inferred_mines, num_inferred_safe, unrevealed_neighbors, num_neighbours = self.get_information(picked_cell)\n",
        "\n",
        "        # finding mine spots\n",
        "        if clue - num_inferred_mines == len(unrevealed_neighbors):\n",
        "            self.inferred_mine.update(unrevealed_neighbors)\n",
        "            self.cells_remaining.difference_update(unrevealed_neighbors)\n",
        "\n",
        "        # finding safe spots\n",
        "        if num_neighbours - clue - num_inferred_safe == len(unrevealed_neighbors):\n",
        "            self.inferred_safe.update(unrevealed_neighbors)\n",
        "            self.cells_remaining.difference_update(unrevealed_neighbors)\n",
        "\n",
        "\n",
        "    def record_state(self, board, mine_mask):\n",
        "        # self.i += 1\n",
        "        # print(self.i)\n",
        "        # Flatten the board and mine_mask for simpler tensor conversion\n",
        "        # flattened_board = [item for sublist in board for item in sublist]\n",
        "        # flattened_mine_mask = [item for sublist in self.mine_mask for item in sublist]\n",
        "        data_collection.append((board, mine_mask))\n",
        "\n",
        "    def play(self):\n",
        "        first_turn = True\n",
        "        # self.mine_mask = [[1]*self.width for _ in range(self.height)]\n",
        "\n",
        "        while self.cells_remaining:\n",
        "            if first_turn:\n",
        "                picked_cell = random.choice(list(self.cells_remaining))\n",
        "                safe_start = set(self.get_neighbours(picked_cell)) | {picked_cell}\n",
        "                self.mine_cord = random.sample(list(self.cells_remaining - safe_start), self.num_mines)\n",
        "                # for mine in self.mine_cord:\n",
        "                #     self.mine_mask[mine[0]][mine[1]] = 0\n",
        "                first_turn = False\n",
        "            elif self.inferred_safe:\n",
        "                picked_cell = self.inferred_safe.pop()\n",
        "            else:\n",
        "                picked_cell = random.choice(list(self.cells_remaining))\n",
        "\n",
        "            self.cells_remaining.discard(picked_cell)\n",
        "            if picked_cell in self.mine_cord:\n",
        "                # self.board[picked_cell[0]][picked_cell[1]] = 9\n",
        "                self.record_state(self.board, self.mine_mask)\n",
        "                return False  # Game over, hit a mine\n",
        "\n",
        "            clue = self.get_clue(picked_cell)\n",
        "            self.board[picked_cell[0]][picked_cell[1]] = clue\n",
        "            self.clue_numbers[picked_cell] = clue\n",
        "            self.record_state(self.board, self.mine_mask)\n",
        "            self.update_inferences(picked_cell, clue)\n",
        "\n",
        "            if self.inferred_mine == self.num_mines and all(self.board[x][y] != -1 for x in range(self.height) for y in range(self.width) if (x, y) not in self.mine_cord):\n",
        "                return True\n",
        "\n",
        "        return True\n"
      ]
    },
    {
      "cell_type": "markdown",
      "metadata": {
        "id": "Bvb7MJoD7DVh"
      },
      "source": [
        "# Model Training"
      ]
    },
    {
      "cell_type": "code",
      "execution_count": null,
      "metadata": {
        "id": "zAlneoUs7Akv"
      },
      "outputs": [],
      "source": [
        "\n",
        "def train_and_test_data_lstm(data_path):\n",
        "    # Load the saved data\n",
        "    data = torch.load(data_path)\n",
        "\n",
        "    # Flatten the widthxheight grids into sequences of w*h features\n",
        "    states, labels = zip(*data)\n",
        "    states = torch.stack([torch.tensor(state, dtype=torch.float32).view(1, -1) for state in states])\n",
        "    labels = torch.stack([torch.tensor(label, dtype=torch.float32).flatten()  for label in labels])\n",
        "\n",
        "    # Splitting and DataLoader setup remains the same\n",
        "    num_train = int(0.8 * len(states))\n",
        "    train_states, test_states = states[:num_train], states[num_train:]\n",
        "    train_labels, test_labels = labels[:num_train], labels[num_train:]\n",
        "\n",
        "    train_dataset = torch.utils.data.TensorDataset(train_states, train_labels)\n",
        "    test_dataset = torch.utils.data.TensorDataset(test_states, test_labels)\n",
        "\n",
        "    train_loader = DataLoader(train_dataset, batch_size=64, shuffle=True)\n",
        "    test_loader = DataLoader(test_dataset, batch_size=64, shuffle=False)\n",
        "\n",
        "    return train_loader, test_loader\n"
      ]
    },
    {
      "cell_type": "code",
      "execution_count": null,
      "metadata": {
        "id": "o873DHO07IkZ"
      },
      "outputs": [],
      "source": [
        "class MinesweeperLSTM(nn.Module):\n",
        "    def __init__(self, input_dim, hidden_dim, output_dim):\n",
        "        super(MinesweeperLSTM, self).__init__()\n",
        "        self.hidden_dim = hidden_dim\n",
        "        self.lstm = nn.LSTM(input_dim, hidden_dim, batch_first=True)\n",
        "        self.linear = nn.Linear(hidden_dim, output_dim)\n",
        "\n",
        "    def forward(self, x):\n",
        "        # Initial hidden and cell states\n",
        "        h0 = torch.zeros(1, x.size(0), self.hidden_dim).to(x.device)\n",
        "        c0 = torch.zeros(1, x.size(0), self.hidden_dim).to(x.device)\n",
        "\n",
        "        # Forward propagate LSTM\n",
        "        out, _ = self.lstm(x, (h0, c0))\n",
        "\n",
        "        # Decode the hidden state of the last time step\n",
        "        out = self.linear(out[:, -1, :])\n",
        "        return out"
      ]
    },
    {
      "cell_type": "code",
      "execution_count": null,
      "metadata": {
        "id": "JQH1aUiT7MEo"
      },
      "outputs": [],
      "source": [
        "def train_model(model, train_loader, criterion, optimizer, device):\n",
        "    model.train()\n",
        "    total_loss = 0\n",
        "    for batch_idx, (data, target) in enumerate(train_loader):\n",
        "        data, target = data.to(device), target.to(device)\n",
        "        optimizer.zero_grad()\n",
        "        output = model(data)\n",
        "        loss = criterion(output, target.float())\n",
        "        loss.backward()\n",
        "        optimizer.step()\n",
        "        total_loss += loss.item()\n",
        "    return total_loss / len(train_loader)\n",
        "\n",
        "def evaluate_model(model, test_loader, criterion, device):\n",
        "    model.eval()\n",
        "    total_loss = 0\n",
        "    with torch.no_grad():\n",
        "        for data, target in test_loader:\n",
        "            data, target = data.to(device), target.to(device)\n",
        "            output = model(data)\n",
        "            loss = criterion(output, target.float())\n",
        "            total_loss += loss.item()\n",
        "    return total_loss / len(test_loader)"
      ]
    },
    {
      "cell_type": "code",
      "execution_count": null,
      "metadata": {
        "id": "xsuhaIeR7OV9"
      },
      "outputs": [],
      "source": [
        "def save_model(model, path):\n",
        "    torch.save(model.state_dict(), path)\n",
        "    print(f'Model saved to {path}')\n",
        "\n",
        "# Initialize and train the model\n",
        "def start_train(input_dim, hidden_dim, output_dim, model_path,data_path):\n",
        "    # train_loader, test_loader =  train_and_test_data()\n",
        "    # board_width = 9\n",
        "    # board_height = 9\n",
        "    # model = MinesweeperCNN(board_width, board_height)\n",
        "    # train_losses, test_losses = train_and_evaluate(model, train_loader, test_loader)\n",
        "\n",
        "    train_loader, test_loader = train_and_test_data_lstm(data_path)\n",
        "    device = torch.device(\"cuda\" if torch.cuda.is_available() else \"cpu\")\n",
        "    model = MinesweeperLSTM(input_dim, hidden_dim, output_dim).to(device)\n",
        "    criterion = nn.BCEWithLogitsLoss()\n",
        "    optimizer = optim.SGD(model.parameters(), lr=0.01)\n",
        "\n",
        "    num_epochs = 10\n",
        "    for epoch in range(num_epochs):\n",
        "        train_loss = train_model(model, train_loader, criterion, optimizer, device)\n",
        "        test_loss = evaluate_model(model, test_loader, criterion, device)\n",
        "        print(f'Epoch {epoch+1}, Train Loss: {train_loss:.4f}, Test Loss: {test_loss:.4f}')\n",
        "\n",
        "    save_model(model, model_path)"
      ]
    },
    {
      "cell_type": "markdown",
      "metadata": {
        "id": "dNqFXlks7WWz"
      },
      "source": [
        "# Testing Trained Model"
      ]
    },
    {
      "cell_type": "code",
      "execution_count": null,
      "metadata": {
        "id": "lnzA0d8T7gUO"
      },
      "outputs": [],
      "source": [
        "def load_model(input_dim, hidden_dim, output_dim, path):\n",
        "    # model = MinesweeperCNN(9,9)  # Initialize the model structure as defined during training\n",
        "    model = MinesweeperLSTM(input_dim, hidden_dim, output_dim)\n",
        "    # model = MinesweeperLSTM(81, 128, 81)\n",
        "    model.load_state_dict(torch.load(path))\n",
        "    # model.eval()  # Set the model to evaluation mode\n",
        "    return model"
      ]
    },
    {
      "cell_type": "code",
      "execution_count": null,
      "metadata": {
        "id": "ZXyZGwrP7dpo"
      },
      "outputs": [],
      "source": [
        "def find_safest_spot(model, board):\n",
        "    # Convert the board to the input tensor format expected by the model\n",
        "    width = len(board)\n",
        "    height = len(board[0])\n",
        "    input_tensor = torch.tensor(board, dtype=torch.float32).view(1, 1, height, width)\n",
        "    input_tensor = input_tensor.flatten(start_dim=2)  # Flatten\n",
        "\n",
        "    # Get the model's prediction\n",
        "    model.eval()\n",
        "    with torch.no_grad():\n",
        "        output = model(input_tensor).view(height, width)  # Reshape back to actual grid\n",
        "\n",
        "    # Find the safest spot: highest probability of being safe but still unrevealed (-1)\n",
        "    max_prob = 0\n",
        "    safest_spot = None\n",
        "    for i in range(height):\n",
        "        for j in range(width):\n",
        "            if board[i][j] == -1 and output[i][j] > max_prob:  # Check for unrevealed and high probability\n",
        "                max_prob = output[i][j]\n",
        "                safest_spot = (i, j)\n",
        "\n",
        "    return safest_spot"
      ]
    },
    {
      "cell_type": "code",
      "execution_count": null,
      "metadata": {
        "id": "DvP_SW3z7V9n"
      },
      "outputs": [],
      "source": [
        "# game = MineSweeperLogicBot(width,height,num_mines)\n",
        "\n",
        "\n",
        "def model_play(model, game):\n",
        "    first_turn = True\n",
        "\n",
        "    while game.cells_remaining:\n",
        "        if first_turn:\n",
        "            picked_cell = random.choice(list(game.cells_remaining))\n",
        "            safe_start = set(game.get_neighbours(picked_cell)) | {picked_cell}\n",
        "            game.mine_cord = set(random.sample(list(game.cells_remaining - safe_start), game.num_mines))\n",
        "            first_turn = False\n",
        "        else:\n",
        "            picked_cell = find_safest_spot(model, game.board)\n",
        "            if picked_cell == None:\n",
        "                return RuntimeError\n",
        "\n",
        "\n",
        "        game.cells_remaining.discard(picked_cell)\n",
        "\n",
        "        if picked_cell in game.mine_cord:\n",
        "            # print(f\"Move at {picked_cell} , mine hit\")\n",
        "            # for row in game.board:\n",
        "            #     print(' '.join(str(x) for x in row))\n",
        "            return False  # Game over, hit a mine\n",
        "\n",
        "        clue = game.get_clue(picked_cell)\n",
        "        game.board[picked_cell[0]][picked_cell[1]] = clue\n",
        "\n",
        "        # print(f\"Move at {picked_cell} with clue {clue}\")\n",
        "        # for row in game.board:\n",
        "        #     print(' '.join(str(x) for x in row))\n",
        "\n",
        "\n",
        "\n",
        "        if all(game.board[x][y] != -1 for x in range(game.height) for y in range(game.width) if (x, y) not in game.mine_cord):\n",
        "            return True"
      ]
    },
    {
      "cell_type": "markdown",
      "metadata": {
        "id": "fht5R9WM7jXg"
      },
      "source": [
        "# EASY LEVEL"
      ]
    },
    {
      "cell_type": "code",
      "execution_count": 1,
      "metadata": {},
      "outputs": [
        {
          "name": "stdout",
          "output_type": "stream",
          "text": [
            "Logic Bot:\n",
            "\n",
            "Total game WON ===> 494\n",
            "\n",
            "Total game Lost ===> 9506\n",
            "\n",
            "The data len : 545906\n",
            "Saved the dataset!\n"
          ]
        }
      ],
      "source": [
        "# GENERATING DATA\n",
        "\n",
        "width = 9\n",
        "height = 9\n",
        "num_mines = 10\n",
        "\n",
        "data_path = \"easy_minesweeper_data.pt\"\n",
        "\n",
        "\n",
        "def main():\n",
        "    game = MineSweeperLogicBot(width,height,num_mines)\n",
        "\n",
        "\n",
        "\n",
        "    won, lost = 0,0\n",
        "\n",
        "    for i in range(10000):\n",
        "        game.new_board()\n",
        "\n",
        "        result = game.play()\n",
        "\n",
        "        if result:\n",
        "            # print(f\"Won at {i}th game!\\n\")\n",
        "            won += 1\n",
        "        else:\n",
        "            # print(f\"Lost at {i}th game...\\n---------------\\n\")\n",
        "            lost += 1\n",
        "\n",
        "    print(\"\\nLogic Bot:\\n\")\n",
        "    print(f\"Total game WON ===> {won}\\n\")\n",
        "    print(f\"Total game Lost ===> {lost}\\n\")\n",
        "\n",
        "    print(\"The data len :\", len(data_collection))\n",
        "\n",
        "    torch.save(data_collection, data_path)\n",
        "    print(\"Saved the dataset!\\n\")\n",
        "\n",
        "\n",
        "main()"
      ]
    },
    {
      "cell_type": "code",
      "execution_count": 2,
      "metadata": {
        "id": "S7W0U1vn7_vR"
      },
      "outputs": [
        {
          "name": "stdout",
          "output_type": "stream",
          "text": [
            "Epoch 1, Train Loss: 0.6295, Test Loss: 0.5599\n",
            "Epoch 2, Train Loss: 0.5024, Test Loss: 0.4697\n",
            "Epoch 3, Train Loss: 0.4592, Test Loss: 0.4567\n",
            "Epoch 4, Train Loss: 0.4525, Test Loss: 0.4527\n",
            "Epoch 5, Train Loss: 0.4486, Test Loss: 0.4488\n",
            "Epoch 6, Train Loss: 0.4444, Test Loss: 0.4443\n",
            "Epoch 7, Train Loss: 0.4396, Test Loss: 0.4391\n",
            "Epoch 8, Train Loss: 0.4342, Test Loss: 0.4336\n",
            "Epoch 9, Train Loss: 0.4285, Test Loss: 0.4278\n",
            "Epoch 10, Train Loss: 0.4228, Test Loss: 0.4222\n",
            "Model saved to easy_minesweeper_model.pth\n"
          ]
        }
      ],
      "source": [
        "# MODEL TRAINING\n",
        "\n",
        "model_path = \"easy_minesweeper_model.pth\"\n",
        "input_dim = width * height\n",
        "hidden_dim= 2 *input_dim\n",
        "output_dim= input_dim\n",
        "\n",
        "start_train(input_dim, hidden_dim, output_dim, model_path, data_path)\n",
        "\n",
        "\n"
      ]
    },
    {
      "cell_type": "code",
      "execution_count": 3,
      "metadata": {
        "id": "d6AODtzr8j8Z"
      },
      "outputs": [
        {
          "name": "stdout",
          "output_type": "stream",
          "text": [
            "Logic Bot:\n",
            "\n",
            "Total game WON ===> 53\n",
            "\n",
            "Total game Lost ===> 947\n",
            "\n",
            "\n",
            "Trained Model:\n",
            "\n",
            "Total game WON ===> 1000\n",
            "\n",
            "Total game Lost ===> 0\n"
          ]
        }
      ],
      "source": [
        "# COMPARISON\n",
        "\n",
        "l_won, l_lost, m_won, m_lost = 0,0,0,0\n",
        "\n",
        "game1 = MineSweeperLogicBot(width,height,num_mines)\n",
        "\n",
        "\n",
        "for i in range(1000):\n",
        "    game1.new_board()\n",
        "\n",
        "    result = game1.play()\n",
        "\n",
        "    if result:\n",
        "        # print(f\"Won at {i}th game!\\n\")\n",
        "        l_won += 1\n",
        "    else:\n",
        "        # print(f\"Lost at {i}th game...\\n---------------\\n\")\n",
        "        l_lost += 1\n",
        "\n",
        "print(\"\\nLogic Bot:\\n\")\n",
        "print(f\"Total game WON ===> {l_won}\\n\")\n",
        "print(f\"Total game Lost ===> {l_lost}\\n\")\n",
        "\n",
        "\n",
        "\n",
        "\n",
        "\n",
        "\n",
        "game2 = MineSweeperLogicBot(width,height,num_mines)\n",
        "\n",
        "for i in range(1000):\n",
        "    game2.new_board()\n",
        "\n",
        "\n",
        "    result = model_play(load_model(input_dim, hidden_dim, output_dim, model_path), game2)\n",
        "\n",
        "    if result:\n",
        "        # print(f\"Won at {i}th game!\\n\")\n",
        "        m_won += 1\n",
        "    else:\n",
        "        # print(f\"Lost at {i}th game...\\n---------------\\n\")\n",
        "        m_lost += 1\n",
        "print(\"\\nTrained Model:\\n\")\n",
        "\n",
        "print(f\"Total game WON ===> {m_won}\\n\")\n",
        "print(f\"Total game Lost ===> {m_lost}\\n\")\n"
      ]
    },
    {
      "cell_type": "markdown",
      "metadata": {
        "id": "rEqYEG2C_6Bx"
      },
      "source": [
        "# INTERMEDIATE LEVEL"
      ]
    },
    {
      "cell_type": "code",
      "execution_count": 4,
      "metadata": {
        "id": "lrgOuR_-_9tu"
      },
      "outputs": [
        {
          "name": "stdout",
          "output_type": "stream",
          "text": [
            "Logic Bot:\n",
            "\n",
            "Total game WON ===> 0\n",
            "\n",
            "Total game Lost ===> 10000\n",
            "\n",
            "The data len : 951011\n",
            "Saved the dataset!\n"
          ]
        }
      ],
      "source": [
        "# GENERATING DATA\n",
        "\n",
        "width = 16\n",
        "height = 16\n",
        "num_mines = 40\n",
        "\n",
        "data_path = \"intermediate_minesweeper_data.pt\"\n",
        "\n",
        "\n",
        "def main():\n",
        "    game = MineSweeperLogicBot(width,height,num_mines)\n",
        "\n",
        "\n",
        "\n",
        "    won, lost = 0,0\n",
        "\n",
        "    for i in range(10000):\n",
        "        game.new_board()\n",
        "\n",
        "        result = game.play()\n",
        "\n",
        "        if result:\n",
        "            # print(f\"Won at {i}th game!\\n\")\n",
        "            won += 1\n",
        "        else:\n",
        "            # print(f\"Lost at {i}th game...\\n---------------\\n\")\n",
        "            lost += 1\n",
        "\n",
        "    print(\"\\nLogic Bot:\\n\")\n",
        "    print(f\"Total game WON ===> {won}\\n\")\n",
        "    print(f\"Total game Lost ===> {lost}\\n\")\n",
        "\n",
        "    print(\"The data len :\", len(data_collection))\n",
        "\n",
        "    torch.save(data_collection, data_path)\n",
        "    print(\"Saved the dataset!\\n\")\n",
        "\n",
        "\n",
        "main()\n",
        "\n"
      ]
    },
    {
      "cell_type": "code",
      "execution_count": 5,
      "metadata": {
        "id": "a5gTyte3AHJD"
      },
      "outputs": [
        {
          "name": "stdout",
          "output_type": "stream",
          "text": [
            "Epoch 1, Train Loss: 0.6765, Test Loss: 0.6552\n",
            "Epoch 2, Train Loss: 0.6221, Test Loss: 0.5850\n",
            "Epoch 3, Train Loss: 0.5529, Test Loss: 0.5243\n",
            "Epoch 4, Train Loss: 0.5087, Test Loss: 0.4934\n",
            "Epoch 5, Train Loss: 0.4859, Test Loss: 0.4756\n",
            "Epoch 6, Train Loss: 0.4706, Test Loss: 0.4621\n",
            "Epoch 7, Train Loss: 0.4582, Test Loss: 0.4512\n",
            "Epoch 8, Train Loss: 0.4483, Test Loss: 0.4426\n",
            "Epoch 9, Train Loss: 0.4404, Test Loss: 0.4358\n",
            "Epoch 10, Train Loss: 0.4340, Test Loss: 0.4303\n",
            "Model saved to intermediate_minesweeper_model.pth\n"
          ]
        }
      ],
      "source": [
        "# MODEL TRAINING\n",
        "\n",
        "model_path = \"intermediate_minesweeper_model.pth\"\n",
        "input_dim = width * height\n",
        "hidden_dim= 2 *input_dim\n",
        "output_dim= input_dim\n",
        "\n",
        "start_train(input_dim, hidden_dim, output_dim, model_path,data_path)\n",
        "\n"
      ]
    },
    {
      "cell_type": "code",
      "execution_count": 6,
      "metadata": {
        "id": "K9u77gT0AL2T"
      },
      "outputs": [
        {
          "name": "stdout",
          "output_type": "stream",
          "text": [
            "Logic Bot:\n",
            "\n",
            "Total game WON ===> 0\n",
            "\n",
            "Total game Lost ===> 1000\n",
            "\n",
            "\n",
            "Trained Model:\n",
            "\n",
            "Total game WON ===> 1000\n",
            "\n",
            "Total game Lost ===> 0\n"
          ]
        }
      ],
      "source": [
        "# COMPARISON\n",
        "\n",
        "l_won, l_lost, m_won, m_lost = 0,0,0,0\n",
        "\n",
        "game1 = MineSweeperLogicBot(width,height,num_mines)\n",
        "\n",
        "\n",
        "for i in range(1000):\n",
        "    game1.new_board()\n",
        "\n",
        "    result = game1.play()\n",
        "\n",
        "    if result:\n",
        "        # print(f\"Won at {i}th game!\\n\")\n",
        "        l_won += 1\n",
        "    else:\n",
        "        # print(f\"Lost at {i}th game...\\n---------------\\n\")\n",
        "        l_lost += 1\n",
        "\n",
        "print(\"\\nLogic Bot:\\n\")\n",
        "print(f\"Total game WON ===> {l_won}\\n\")\n",
        "print(f\"Total game Lost ===> {l_lost}\\n\")\n",
        "\n",
        "\n",
        "\n",
        "\n",
        "\n",
        "game2 = MineSweeperLogicBot(width,height,num_mines)\n",
        "\n",
        "for i in range(1000):\n",
        "    game2.new_board()\n",
        "\n",
        "\n",
        "    result = model_play(load_model(input_dim, hidden_dim, output_dim, model_path), game2)\n",
        "\n",
        "    if result:\n",
        "        # print(f\"Won at {i}th game!\\n\")\n",
        "        m_won += 1\n",
        "    else:\n",
        "        # print(f\"Lost at {i}th game...\\n---------------\\n\")\n",
        "        m_lost += 1\n",
        "print(\"\\nTrained Model:\\n\")\n",
        "\n",
        "print(f\"Total game WON ===> {m_won}\\n\")\n",
        "print(f\"Total game Lost ===> {m_lost}\\n\")"
      ]
    },
    {
      "cell_type": "markdown",
      "metadata": {
        "id": "moh1E_fWWSIh"
      },
      "source": [
        "# EXPERT LEVEL"
      ]
    },
    {
      "cell_type": "code",
      "execution_count": 7,
      "metadata": {
        "id": "FXlcuaCOWT4B"
      },
      "outputs": [
        {
          "name": "stdout",
          "output_type": "stream",
          "text": [
            "Logic Bot:\n",
            "\n",
            "Total game WON ===> 0\n",
            "\n",
            "Total game Lost ===> 10000\n",
            "\n",
            "The data len : 612994\n",
            "Saved the dataset!\n"
          ]
        }
      ],
      "source": [
        "# GENERATING DATA\n",
        "\n",
        "width = 30\n",
        "height = 16\n",
        "num_mines = 99\n",
        "\n",
        "data_path = \"expert_minesweeper_data.pt\"\n",
        "\n",
        "\n",
        "def main():\n",
        "    game = MineSweeperLogicBot(width,height,num_mines)\n",
        "\n",
        "\n",
        "\n",
        "    won, lost = 0,0\n",
        "\n",
        "    for i in range(10000):\n",
        "        game.new_board()\n",
        "\n",
        "        result = game.play()\n",
        "\n",
        "        if result:\n",
        "            # print(f\"Won at {i}th game!\\n\")\n",
        "            won += 1\n",
        "        else:\n",
        "            # print(f\"Lost at {i}th game...\\n---------------\\n\")\n",
        "            lost += 1\n",
        "\n",
        "    print(\"\\nLogic Bot:\\n\")\n",
        "    print(f\"Total game WON ===> {won}\\n\")\n",
        "    print(f\"Total game Lost ===> {lost}\\n\")\n",
        "\n",
        "    print(\"The data len :\", len(data_collection))\n",
        "\n",
        "    torch.save(data_collection, data_path)\n",
        "    print(\"Saved the dataset!\\n\")\n",
        "\n",
        "\n",
        "main()\n"
      ]
    },
    {
      "cell_type": "code",
      "execution_count": 8,
      "metadata": {
        "id": "McyAAX4aWh8z"
      },
      "outputs": [
        {
          "name": "stdout",
          "output_type": "stream",
          "text": [
            "Epoch 1, Train Loss: 0.6266, Test Loss: 0.5542\n",
            "Epoch 2, Train Loss: 0.5397, Test Loss: 0.5265\n",
            "Epoch 3, Train Loss: 0.5136, Test Loss: 0.4944\n",
            "Epoch 4, Train Loss: 0.4762, Test Loss: 0.4560\n",
            "Epoch 5, Train Loss: 0.4401, Test Loss: 0.4232\n",
            "Epoch 6, Train Loss: 0.4108, Test Loss: 0.3982\n",
            "Epoch 7, Train Loss: 0.3893, Test Loss: 0.3805\n",
            "Epoch 8, Train Loss: 0.3734, Test Loss: 0.3671\n",
            "Epoch 9, Train Loss: 0.3608, Test Loss: 0.3562\n",
            "Epoch 10, Train Loss: 0.3504, Test Loss: 0.3472\n",
            "Model saved to expert_minesweeper_model.pth\n"
          ]
        }
      ],
      "source": [
        "# MODEL TRAINING\n",
        "\n",
        "model_path = \"expert_minesweeper_model.pth\"\n",
        "input_dim = width * height\n",
        "hidden_dim= 2 *input_dim\n",
        "output_dim= input_dim\n",
        "\n",
        "start_train(input_dim, hidden_dim, output_dim, model_path,data_path)\n",
        "\n"
      ]
    },
    {
      "cell_type": "code",
      "execution_count": 9,
      "metadata": {
        "id": "20QFNvRuWki6"
      },
      "outputs": [
        {
          "name": "stdout",
          "output_type": "stream",
          "text": [
            "Logic Bot:\n",
            "\n",
            "Total game WON ===> 0\n",
            "\n",
            "Total game Lost ===> 1000\n",
            "\n",
            "\n",
            "Trained Model:\n",
            "\n",
            "Total game WON ===> 1000\n",
            "\n",
            "Total game Lost ===> 0\n"
          ]
        }
      ],
      "source": [
        "# COMPARISON\n",
        "\n",
        "l_won, l_lost, m_won, m_lost = 0,0,0,0\n",
        "\n",
        "game1 = MineSweeperLogicBot(width,height,num_mines)\n",
        "\n",
        "\n",
        "for i in range(1000):\n",
        "    game1.new_board()\n",
        "\n",
        "    result = game1.play()\n",
        "\n",
        "    if result:\n",
        "        # print(f\"Won at {i}th game!\\n\")\n",
        "        l_won += 1\n",
        "    else:\n",
        "        # print(f\"Lost at {i}th game...\\n---------------\\n\")\n",
        "        l_lost += 1\n",
        "\n",
        "print(\"\\nLogic Bot:\\n\")\n",
        "print(f\"Total game WON ===> {l_won}\\n\")\n",
        "print(f\"Total game Lost ===> {l_lost}\\n\")\n",
        "\n",
        "\n",
        "\n",
        "\n",
        "\n",
        "game2 = MineSweeperLogicBot(width,height,num_mines)\n",
        "\n",
        "for i in range(1000):\n",
        "    game2.new_board()\n",
        "\n",
        "\n",
        "    result = model_play(load_model(input_dim, hidden_dim, output_dim, model_path), game2)\n",
        "\n",
        "    if result:\n",
        "        # print(f\"Won at {i}th game!\\n\")\n",
        "        m_won += 1\n",
        "    else:\n",
        "        # print(f\"Lost at {i}th game...\\n---------------\\n\")\n",
        "        m_lost += 1\n",
        "print(\"\\nTrained Model:\\n\")\n",
        "\n",
        "print(f\"Total game WON ===> {m_won}\\n\")\n",
        "print(f\"Total game Lost ===> {m_lost}\\n\")\n",
        "\n"
      ]
    }
  ],
  "metadata": {
    "colab": {
      "collapsed_sections": [
        "Bvb7MJoD7DVh"
      ],
      "provenance": []
    },
    "kernelspec": {
      "display_name": "Python 3",
      "name": "python3"
    },
    "language_info": {
      "codemirror_mode": {
        "name": "ipython",
        "version": 3
      },
      "file_extension": ".py",
      "mimetype": "text/x-python",
      "name": "python",
      "nbconvert_exporter": "python",
      "pygments_lexer": "ipython3",
      "version": "3.10.12"
    }
  },
  "nbformat": 4,
  "nbformat_minor": 0
}
